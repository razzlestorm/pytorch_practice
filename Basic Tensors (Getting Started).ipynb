{
 "cells": [
  {
   "cell_type": "code",
   "execution_count": 1,
   "metadata": {},
   "outputs": [],
   "source": [
    "from __future__ import print_function\n",
    "import torch"
   ]
  },
  {
   "cell_type": "code",
   "execution_count": 2,
   "metadata": {},
   "outputs": [
    {
     "name": "stdout",
     "output_type": "stream",
     "text": [
      "tensor([[9.9184e-39, 8.7245e-39, 9.2755e-39],\n",
      "        [8.9082e-39, 9.9184e-39, 8.4490e-39],\n",
      "        [9.6429e-39, 1.0653e-38, 1.0469e-38],\n",
      "        [4.2246e-39, 1.0378e-38, 9.6429e-39],\n",
      "        [9.2755e-39, 9.7346e-39, 1.0745e-38]])\n"
     ]
    }
   ],
   "source": [
    "# This creates an empty 5x3 matrix\n",
    "ii = torch.empty(5, 3)\n",
    "print(ii)"
   ]
  },
  {
   "cell_type": "code",
   "execution_count": 3,
   "metadata": {},
   "outputs": [
    {
     "name": "stdout",
     "output_type": "stream",
     "text": [
      "tensor([[0.1788, 0.4100, 0.8646],\n",
      "        [0.0195, 0.7073, 0.6307],\n",
      "        [0.6373, 0.8279, 0.5543],\n",
      "        [0.4957, 0.0156, 0.0980],\n",
      "        [0.0397, 0.8539, 0.9226]])\n"
     ]
    }
   ],
   "source": [
    "print(torch.rand(5, 3))"
   ]
  },
  {
   "cell_type": "code",
   "execution_count": 5,
   "metadata": {},
   "outputs": [
    {
     "name": "stdout",
     "output_type": "stream",
     "text": [
      "tensor([[0, 0, 0],\n",
      "        [0, 0, 0],\n",
      "        [0, 0, 0],\n",
      "        [0, 0, 0],\n",
      "        [0, 0, 0]])\n"
     ]
    }
   ],
   "source": [
    "# A torch long is equivalent to int64: https://pytorch.org/docs/stable/tensors.html\n",
    "print(torch.zeros(5, 3, dtype=torch.long))"
   ]
  },
  {
   "cell_type": "code",
   "execution_count": 7,
   "metadata": {},
   "outputs": [
    {
     "name": "stdout",
     "output_type": "stream",
     "text": [
      "tensor([5.5000, 3.0000, 2.9000])\n"
     ]
    }
   ],
   "source": [
    "x = torch.tensor([5.5, 3, 2.90003444334321234])\n",
    "print(x)"
   ]
  },
  {
   "cell_type": "code",
   "execution_count": 8,
   "metadata": {},
   "outputs": [
    {
     "data": {
      "text/plain": [
       "torch.Size([3])"
      ]
     },
     "execution_count": 8,
     "metadata": {},
     "output_type": "execute_result"
    }
   ],
   "source": [
    "x.size()"
   ]
  },
  {
   "cell_type": "code",
   "execution_count": 23,
   "metadata": {},
   "outputs": [
    {
     "name": "stdout",
     "output_type": "stream",
     "text": [
      "tensor([[5.6843, 3.6674, 3.4917],\n",
      "        [5.8048, 3.0298, 3.1421],\n",
      "        [5.8098, 3.0492, 3.2756],\n",
      "        [6.1791, 3.5933, 3.5051],\n",
      "        [5.9073, 3.1725, 3.6393]])\n"
     ]
    }
   ],
   "source": [
    "y = torch.rand(5,3)\n",
    "print(x + y)"
   ]
  },
  {
   "cell_type": "code",
   "execution_count": 21,
   "metadata": {},
   "outputs": [
    {
     "name": "stdout",
     "output_type": "stream",
     "text": [
      "tensor([[6.3363, 3.0184, 3.8037],\n",
      "        [6.0091, 3.4567, 3.4344],\n",
      "        [6.3004, 3.8161, 3.4169],\n",
      "        [6.2906, 3.2836, 3.2059],\n",
      "        [5.6078, 3.9344, 3.7926]])\n"
     ]
    }
   ],
   "source": [
    "result = torch.empty(8, 8) # Empty torches get reshaped, apparently\n",
    "torch.add(x, y, out=result) # Adding and sending to other tensor in the same line! \n",
    "print(result)"
   ]
  },
  {
   "cell_type": "code",
   "execution_count": 26,
   "metadata": {},
   "outputs": [
    {
     "name": "stdout",
     "output_type": "stream",
     "text": [
      "tensor([[5.6843, 3.6674, 3.4917],\n",
      "        [5.8048, 3.0298, 3.1421],\n",
      "        [5.8098, 3.0492, 3.2756],\n",
      "        [6.1791, 3.5933, 3.5051],\n",
      "        [5.9073, 3.1725, 3.6393]])\n",
      "-------\n",
      "tensor([[11.1843,  6.6674,  6.3917],\n",
      "        [11.3048,  6.0298,  6.0422],\n",
      "        [11.3098,  6.0492,  6.1756],\n",
      "        [11.6791,  6.5933,  6.4051],\n",
      "        [11.4073,  6.1725,  6.5393]])\n"
     ]
    }
   ],
   "source": [
    "print(y)\n",
    "y.add_(x)\n",
    "print('-------')\n",
    "print(y)"
   ]
  },
  {
   "cell_type": "code",
   "execution_count": 27,
   "metadata": {},
   "outputs": [
    {
     "name": "stdout",
     "output_type": "stream",
     "text": [
      "tensor([-0.6930])\n",
      "-0.6929606199264526\n"
     ]
    }
   ],
   "source": [
    "# Use .item() to get a Python number of a single element tensor\n",
    "x = torch.randn(1)\n",
    "print(x)\n",
    "print(x.item())"
   ]
  },
  {
   "cell_type": "code",
   "execution_count": 36,
   "metadata": {},
   "outputs": [
    {
     "name": "stdout",
     "output_type": "stream",
     "text": [
      "11.304767608642578\n"
     ]
    }
   ],
   "source": [
    "# torches can be indexed as well, in [row][column] order\n",
    "print(y[1][0].item())"
   ]
  },
  {
   "cell_type": "code",
   "execution_count": 38,
   "metadata": {},
   "outputs": [
    {
     "name": "stdout",
     "output_type": "stream",
     "text": [
      "tensor([[11.1843,  6.6674,  6.3917],\n",
      "        [11.3048,  6.0298,  6.0422],\n",
      "        [11.3098,  6.0492,  6.1756],\n",
      "        [11.6791,  6.5933,  6.4051],\n",
      "        [11.4073,  6.1725,  6.5393]])\n",
      "---------\n",
      "[[11.184345   6.6674194  6.391701 ]\n",
      " [11.304768   6.0298443  6.0421643]\n",
      " [11.309796   6.0491576  6.1755943]\n",
      " [11.679131   6.593277   6.405126 ]\n",
      " [11.407299   6.1724977  6.539294 ]]\n"
     ]
    }
   ],
   "source": [
    "print(y)\n",
    "print('---------')\n",
    "print(y.numpy())"
   ]
  },
  {
   "cell_type": "code",
   "execution_count": 39,
   "metadata": {},
   "outputs": [
    {
     "name": "stdout",
     "output_type": "stream",
     "text": [
      "[1. 1. 1. 1. 1.]\n",
      "tensor([1., 1., 1., 1., 1.], dtype=torch.float64)\n"
     ]
    }
   ],
   "source": [
    "import numpy as np\n",
    "a = np.ones(5)\n",
    "print(a)\n",
    "b = torch.from_numpy(a)\n",
    "print(b)"
   ]
  },
  {
   "cell_type": "code",
   "execution_count": 40,
   "metadata": {},
   "outputs": [
    {
     "name": "stdout",
     "output_type": "stream",
     "text": [
      "[2. 2. 2. 2. 2.]\n",
      "tensor([2., 2., 2., 2., 2.], dtype=torch.float64)\n"
     ]
    }
   ],
   "source": [
    "np.add(a, 1, out=a)\n",
    "print(a)\n",
    "print(b)"
   ]
  },
  {
   "cell_type": "code",
   "execution_count": null,
   "metadata": {},
   "outputs": [],
   "source": []
  }
 ],
 "metadata": {
  "kernelspec": {
   "display_name": "Python 3",
   "language": "python",
   "name": "python3"
  },
  "language_info": {
   "codemirror_mode": {
    "name": "ipython",
    "version": 3
   },
   "file_extension": ".py",
   "mimetype": "text/x-python",
   "name": "python",
   "nbconvert_exporter": "python",
   "pygments_lexer": "ipython3",
   "version": "3.7.3"
  }
 },
 "nbformat": 4,
 "nbformat_minor": 4
}
